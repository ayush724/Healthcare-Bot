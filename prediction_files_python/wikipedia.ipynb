{
 "cells": [
  {
   "cell_type": "code",
   "execution_count": 2,
   "metadata": {},
   "outputs": [],
   "source": [
    "import wikipedia\n",
    "import wikipediaapi"
   ]
  },
  {
   "cell_type": "code",
   "execution_count": 15,
   "metadata": {},
   "outputs": [
    {
     "name": "stdout",
     "output_type": "stream",
     "text": [
      "Paralysis (pl.: paralyses; also known as plegia) is a loss of motor function in one or more muscles. Paralysis can also be accompanied by a loss of feeling (sensory loss) in the affected area if there is sensory damage. In the United States, roughly 1 in 50 people have been diagnosed with some form of permanent or transient paralysis. The word \"paralysis\" derives from the Greek παράλυσις, meaning \"disabling of the nerves\" from παρά (para) meaning \"beside, by\" and λύσις (lysis) meaning \"making loose\". A paralysis accompanied by involuntary tremors is usually called \"palsy\".\n"
     ]
    }
   ],
   "source": [
    "disease = \"Paralysis \"\n",
    "# print(wikipedia.summary(key(disease))\n",
    "print(wikipedia.summary(disease, auto_suggest=False))"
   ]
  }
 ],
 "metadata": {
  "kernelspec": {
   "display_name": "venv",
   "language": "python",
   "name": "python3"
  },
  "language_info": {
   "codemirror_mode": {
    "name": "ipython",
    "version": 3
   },
   "file_extension": ".py",
   "mimetype": "text/x-python",
   "name": "python",
   "nbconvert_exporter": "python",
   "pygments_lexer": "ipython3",
   "version": "3.10.2"
  }
 },
 "nbformat": 4,
 "nbformat_minor": 2
}
